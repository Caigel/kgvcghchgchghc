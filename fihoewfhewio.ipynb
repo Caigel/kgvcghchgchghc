{
 "cells": [
  {
   "cell_type": "code",
   "execution_count": 1,
   "id": "73c7719e-2df2-47ba-afb5-8b64a328f862",
   "metadata": {},
   "outputs": [],
   "source": [
    "from datetime import date\n",
    "\n",
    "today = date.today().isoformat()\n",
    "\n",
    "with open(\"today.txt\", \"w\") as file:\n",
    "    file.write(today)\n"
   ]
  },
  {
   "cell_type": "code",
   "execution_count": 2,
   "id": "1ada1f56-0e13-4899-95da-fbe08740a438",
   "metadata": {},
   "outputs": [],
   "source": [
    "with open(\"today.txt\", \"r\") as file:\n",
    "    today_string = file.read().strip()  \n"
   ]
  },
  {
   "cell_type": "code",
   "execution_count": 3,
   "id": "66042ed6-30e9-4c0b-9388-4ef334a76519",
   "metadata": {},
   "outputs": [
    {
     "name": "stdout",
     "output_type": "stream",
     "text": [
      "2025-03-04\n"
     ]
    }
   ],
   "source": [
    "from datetime import datetime\n",
    "\n",
    "parsed_date = datetime.strptime(today_string, \"%Y-%m-%d\").date()\n",
    "\n",
    "print(parsed_date)\n"
   ]
  }
 ],
 "metadata": {
  "kernelspec": {
   "display_name": "Python 3 (ipykernel)",
   "language": "python",
   "name": "python3"
  },
  "language_info": {
   "codemirror_mode": {
    "name": "ipython",
    "version": 3
   },
   "file_extension": ".py",
   "mimetype": "text/x-python",
   "name": "python",
   "nbconvert_exporter": "python",
   "pygments_lexer": "ipython3",
   "version": "3.13.0"
  }
 },
 "nbformat": 4,
 "nbformat_minor": 5
}
